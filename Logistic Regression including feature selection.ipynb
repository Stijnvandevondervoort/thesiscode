{
 "cells": [
  {
   "cell_type": "code",
   "execution_count": 1,
   "metadata": {},
   "outputs": [],
   "source": [
    "import pandas as pd\n",
    "import numpy as np\n",
    "from sklearn.model_selection import train_test_split\n",
    "import timeit\n",
    "import pandas\n"
   ]
  },
  {
   "cell_type": "code",
   "execution_count": 2,
   "metadata": {},
   "outputs": [
    {
     "data": {
      "text/html": [
       "<div>\n",
       "<style scoped>\n",
       "    .dataframe tbody tr th:only-of-type {\n",
       "        vertical-align: middle;\n",
       "    }\n",
       "\n",
       "    .dataframe tbody tr th {\n",
       "        vertical-align: top;\n",
       "    }\n",
       "\n",
       "    .dataframe thead th {\n",
       "        text-align: right;\n",
       "    }\n",
       "</style>\n",
       "<table border=\"1\" class=\"dataframe\">\n",
       "  <thead>\n",
       "    <tr style=\"text-align: right;\">\n",
       "      <th></th>\n",
       "      <th>bResult</th>\n",
       "      <th>rResult</th>\n",
       "      <th>game_id</th>\n",
       "      <th>minute</th>\n",
       "      <th>League</th>\n",
       "      <th>Year</th>\n",
       "      <th>Season</th>\n",
       "      <th>Type</th>\n",
       "      <th>blueTeamTag</th>\n",
       "      <th>redTeamTag</th>\n",
       "      <th>...</th>\n",
       "      <th>killsredTop</th>\n",
       "      <th>killsredJungle</th>\n",
       "      <th>killsredMiddle</th>\n",
       "      <th>killsredADC</th>\n",
       "      <th>killsredSupport</th>\n",
       "      <th>killsblueTop</th>\n",
       "      <th>killsblueJungle</th>\n",
       "      <th>killsblueMiddle</th>\n",
       "      <th>killsblueADC</th>\n",
       "      <th>killsblueSupport</th>\n",
       "    </tr>\n",
       "  </thead>\n",
       "  <tbody>\n",
       "    <tr>\n",
       "      <th>0</th>\n",
       "      <td>1</td>\n",
       "      <td>0</td>\n",
       "      <td>0</td>\n",
       "      <td>1</td>\n",
       "      <td>NALCS</td>\n",
       "      <td>2015</td>\n",
       "      <td>Spring</td>\n",
       "      <td>Season</td>\n",
       "      <td>TSM</td>\n",
       "      <td>C9</td>\n",
       "      <td>...</td>\n",
       "      <td>0</td>\n",
       "      <td>0</td>\n",
       "      <td>0</td>\n",
       "      <td>0</td>\n",
       "      <td>0</td>\n",
       "      <td>0</td>\n",
       "      <td>0</td>\n",
       "      <td>0</td>\n",
       "      <td>0</td>\n",
       "      <td>0</td>\n",
       "    </tr>\n",
       "    <tr>\n",
       "      <th>1</th>\n",
       "      <td>1</td>\n",
       "      <td>0</td>\n",
       "      <td>0</td>\n",
       "      <td>2</td>\n",
       "      <td>NALCS</td>\n",
       "      <td>2015</td>\n",
       "      <td>Spring</td>\n",
       "      <td>Season</td>\n",
       "      <td>TSM</td>\n",
       "      <td>C9</td>\n",
       "      <td>...</td>\n",
       "      <td>0</td>\n",
       "      <td>0</td>\n",
       "      <td>0</td>\n",
       "      <td>0</td>\n",
       "      <td>0</td>\n",
       "      <td>0</td>\n",
       "      <td>0</td>\n",
       "      <td>0</td>\n",
       "      <td>0</td>\n",
       "      <td>0</td>\n",
       "    </tr>\n",
       "    <tr>\n",
       "      <th>2</th>\n",
       "      <td>1</td>\n",
       "      <td>0</td>\n",
       "      <td>0</td>\n",
       "      <td>3</td>\n",
       "      <td>NALCS</td>\n",
       "      <td>2015</td>\n",
       "      <td>Spring</td>\n",
       "      <td>Season</td>\n",
       "      <td>TSM</td>\n",
       "      <td>C9</td>\n",
       "      <td>...</td>\n",
       "      <td>0</td>\n",
       "      <td>0</td>\n",
       "      <td>0</td>\n",
       "      <td>0</td>\n",
       "      <td>0</td>\n",
       "      <td>0</td>\n",
       "      <td>0</td>\n",
       "      <td>0</td>\n",
       "      <td>0</td>\n",
       "      <td>0</td>\n",
       "    </tr>\n",
       "    <tr>\n",
       "      <th>3</th>\n",
       "      <td>1</td>\n",
       "      <td>0</td>\n",
       "      <td>0</td>\n",
       "      <td>4</td>\n",
       "      <td>NALCS</td>\n",
       "      <td>2015</td>\n",
       "      <td>Spring</td>\n",
       "      <td>Season</td>\n",
       "      <td>TSM</td>\n",
       "      <td>C9</td>\n",
       "      <td>...</td>\n",
       "      <td>0</td>\n",
       "      <td>0</td>\n",
       "      <td>0</td>\n",
       "      <td>0</td>\n",
       "      <td>0</td>\n",
       "      <td>0</td>\n",
       "      <td>0</td>\n",
       "      <td>0</td>\n",
       "      <td>0</td>\n",
       "      <td>0</td>\n",
       "    </tr>\n",
       "    <tr>\n",
       "      <th>4</th>\n",
       "      <td>1</td>\n",
       "      <td>0</td>\n",
       "      <td>0</td>\n",
       "      <td>5</td>\n",
       "      <td>NALCS</td>\n",
       "      <td>2015</td>\n",
       "      <td>Spring</td>\n",
       "      <td>Season</td>\n",
       "      <td>TSM</td>\n",
       "      <td>C9</td>\n",
       "      <td>...</td>\n",
       "      <td>0</td>\n",
       "      <td>0</td>\n",
       "      <td>0</td>\n",
       "      <td>0</td>\n",
       "      <td>0</td>\n",
       "      <td>0</td>\n",
       "      <td>0</td>\n",
       "      <td>0</td>\n",
       "      <td>0</td>\n",
       "      <td>0</td>\n",
       "    </tr>\n",
       "  </tbody>\n",
       "</table>\n",
       "<p>5 rows × 84 columns</p>\n",
       "</div>"
      ],
      "text/plain": [
       "   bResult  rResult  game_id  minute League  Year  Season    Type blueTeamTag  \\\n",
       "0        1        0        0       1  NALCS  2015  Spring  Season         TSM   \n",
       "1        1        0        0       2  NALCS  2015  Spring  Season         TSM   \n",
       "2        1        0        0       3  NALCS  2015  Spring  Season         TSM   \n",
       "3        1        0        0       4  NALCS  2015  Spring  Season         TSM   \n",
       "4        1        0        0       5  NALCS  2015  Spring  Season         TSM   \n",
       "\n",
       "  redTeamTag        ...         killsredTop  killsredJungle  killsredMiddle  \\\n",
       "0         C9        ...                   0               0               0   \n",
       "1         C9        ...                   0               0               0   \n",
       "2         C9        ...                   0               0               0   \n",
       "3         C9        ...                   0               0               0   \n",
       "4         C9        ...                   0               0               0   \n",
       "\n",
       "   killsredADC  killsredSupport  killsblueTop  killsblueJungle  \\\n",
       "0            0                0             0                0   \n",
       "1            0                0             0                0   \n",
       "2            0                0             0                0   \n",
       "3            0                0             0                0   \n",
       "4            0                0             0                0   \n",
       "\n",
       "   killsblueMiddle  killsblueADC  killsblueSupport  \n",
       "0                0             0                 0  \n",
       "1                0             0                 0  \n",
       "2                0             0                 0  \n",
       "3                0             0                 0  \n",
       "4                0             0                 0  \n",
       "\n",
       "[5 rows x 84 columns]"
      ]
     },
     "execution_count": 2,
     "metadata": {},
     "output_type": "execute_result"
    }
   ],
   "source": [
    "df = pd.read_excel('data.xlsx', index_col=0) \n",
    "df.head()"
   ]
  },
  {
   "cell_type": "code",
   "execution_count": 3,
   "metadata": {},
   "outputs": [],
   "source": [
    "#only nummeric features\n",
    "numerics = ['int16', 'int32', 'int64', 'float16', 'float32', 'float64']\n",
    "\n",
    "df = df.select_dtypes(include=numerics)"
   ]
  },
  {
   "cell_type": "code",
   "execution_count": 4,
   "metadata": {},
   "outputs": [],
   "source": [
    "#split data into train en test\n",
    "unique_game_id = df.game_id.unique()\n",
    "train_game_id , test_game_id= train_test_split(unique_game_id,test_size=0.30, random_state=42)\n",
    "\n",
    "test_data = df[df.game_id.isin(test_game_id)]\n",
    "train_data = df[df.game_id.isin(train_game_id)]\n",
    "xtest = test_data.drop(\"bResult\",axis=1)\n",
    "xtest = xtest.drop(\"rResult\",axis=1)\n",
    "ytest = test_data.bResult\n",
    "xtrain = train_data.drop(\"bResult\",axis=1)\n",
    "xtrain = xtrain.drop(\"rResult\",axis=1)\n",
    "ytrain = train_data.bResult\n"
   ]
  },
  {
   "cell_type": "code",
   "execution_count": 6,
   "metadata": {},
   "outputs": [],
   "source": [
    "y_test_0_5 = test_data[test_data.minute<6].bResult\n",
    "x_test_0_5 = test_data[test_data.minute<6]\n",
    "\n",
    "x_test_0_5 = x_test_0_5.drop(\"bResult\",axis=1)\n",
    "x_test_0_5 = x_test_0_5.drop(\"rResult\",axis=1)\n",
    "\n",
    "x_test_0_5 = x_test_0_5.select_dtypes(include=numerics)"
   ]
  },
  {
   "cell_type": "code",
   "execution_count": 9,
   "metadata": {},
   "outputs": [],
   "source": [
    "ytrain5 = train_data[train_data.minute<6].bResult\n",
    "xtrain5 = train_data[train_data.minute<6]\n",
    "\n",
    "xtrain5 = xtrain5.drop(\"bResult\",axis=1)\n",
    "xtrain5 = xtrain5.drop(\"rResult\",axis=1)\n",
    "\n",
    "xtrain5 = xtrain5.select_dtypes(include=numerics)"
   ]
  },
  {
   "cell_type": "code",
   "execution_count": 12,
   "metadata": {},
   "outputs": [
    {
     "data": {
      "text/plain": [
       "0.5613298337707786"
      ]
     },
     "execution_count": 12,
     "metadata": {},
     "output_type": "execute_result"
    }
   ],
   "source": [
    "clf = LogisticRegression(random_state=0).fit(xtrain5, ytrain5)\n",
    "#clf.predict(x_test))\n",
    "\n",
    "#clf.predict_proba(x_test)\n",
    "\n",
    "clf.score(x_test_0_5, y_test_0_5)"
   ]
  },
  {
   "cell_type": "code",
   "execution_count": 13,
   "metadata": {},
   "outputs": [
    {
     "name": "stderr",
     "output_type": "stream",
     "text": [
      "C:\\Users\\stijn\\AppData\\Local\\Continuum\\anaconda3\\lib\\site-packages\\ipykernel_launcher.py:1: UserWarning: Boolean Series key will be reindexed to match DataFrame index.\n",
      "  \"\"\"Entry point for launching an IPython kernel.\n",
      "C:\\Users\\stijn\\AppData\\Local\\Continuum\\anaconda3\\lib\\site-packages\\ipykernel_launcher.py:2: UserWarning: Boolean Series key will be reindexed to match DataFrame index.\n",
      "  \n"
     ]
    }
   ],
   "source": [
    "ytrain10 = train_data[train_data.minute<11][train_data.minute>5].bResult\n",
    "xtrain10 = train_data[train_data.minute<11][train_data.minute>5]\n",
    "\n",
    "xtrain10 = xtrain10.drop(\"bResult\",axis=1)\n",
    "xtrain10 = xtrain10.drop(\"rResult\",axis=1)\n",
    "\n",
    "xtrain10 = xtrain10.select_dtypes(include=numerics)"
   ]
  },
  {
   "cell_type": "code",
   "execution_count": 14,
   "metadata": {},
   "outputs": [
    {
     "name": "stderr",
     "output_type": "stream",
     "text": [
      "C:\\Users\\stijn\\AppData\\Local\\Continuum\\anaconda3\\lib\\site-packages\\ipykernel_launcher.py:1: UserWarning: Boolean Series key will be reindexed to match DataFrame index.\n",
      "  \"\"\"Entry point for launching an IPython kernel.\n",
      "C:\\Users\\stijn\\AppData\\Local\\Continuum\\anaconda3\\lib\\site-packages\\ipykernel_launcher.py:2: UserWarning: Boolean Series key will be reindexed to match DataFrame index.\n",
      "  \n"
     ]
    }
   ],
   "source": [
    "y_test_0_10 = test_data[test_data.minute<11][test_data.minute>5].bResult\n",
    "x_test_0_10 = test_data[test_data.minute<11][test_data.minute>5]\n",
    "\n",
    "x_test_0_10 = x_test_0_10.drop(\"bResult\",axis=1)\n",
    "x_test_0_10 = x_test_0_10.drop(\"rResult\",axis=1)\n",
    "\n",
    "x_test_0_10 = x_test_0_10.select_dtypes(include=numerics)"
   ]
  },
  {
   "cell_type": "code",
   "execution_count": 17,
   "metadata": {},
   "outputs": [
    {
     "data": {
      "text/plain": [
       "0.6463692038495188"
      ]
     },
     "execution_count": 17,
     "metadata": {},
     "output_type": "execute_result"
    }
   ],
   "source": [
    "clf = LogisticRegression(random_state=0).fit(xtrain10, ytrain10)\n",
    "\n",
    "\n",
    "clf.score(x_test_0_10, y_test_0_10)"
   ]
  },
  {
   "cell_type": "code",
   "execution_count": 16,
   "metadata": {},
   "outputs": [
    {
     "name": "stderr",
     "output_type": "stream",
     "text": [
      "C:\\Users\\stijn\\AppData\\Local\\Continuum\\anaconda3\\lib\\site-packages\\ipykernel_launcher.py:1: UserWarning: Boolean Series key will be reindexed to match DataFrame index.\n",
      "  \"\"\"Entry point for launching an IPython kernel.\n",
      "C:\\Users\\stijn\\AppData\\Local\\Continuum\\anaconda3\\lib\\site-packages\\ipykernel_launcher.py:2: UserWarning: Boolean Series key will be reindexed to match DataFrame index.\n",
      "  \n"
     ]
    }
   ],
   "source": [
    "ytrain15 = train_data[train_data.minute<16][train_data.minute>10].bResult\n",
    "xtrain15 = train_data[train_data.minute<16][train_data.minute>10]\n",
    "\n",
    "xtrain15 = xtrain15.drop(\"bResult\",axis=1)\n",
    "xtrain15 = xtrain15.drop(\"rResult\",axis=1)\n",
    "\n",
    "xtrain15 = xtrain15.select_dtypes(include=numerics)"
   ]
  },
  {
   "cell_type": "code",
   "execution_count": 19,
   "metadata": {},
   "outputs": [
    {
     "name": "stderr",
     "output_type": "stream",
     "text": [
      "C:\\Users\\stijn\\AppData\\Local\\Continuum\\anaconda3\\lib\\site-packages\\ipykernel_launcher.py:1: UserWarning: Boolean Series key will be reindexed to match DataFrame index.\n",
      "  \"\"\"Entry point for launching an IPython kernel.\n",
      "C:\\Users\\stijn\\AppData\\Local\\Continuum\\anaconda3\\lib\\site-packages\\ipykernel_launcher.py:2: UserWarning: Boolean Series key will be reindexed to match DataFrame index.\n",
      "  \n"
     ]
    }
   ],
   "source": [
    "y_test_0_15 = test_data[test_data.minute<16][test_data.minute>9].bResult\n",
    "x_test_0_15 = test_data[test_data.minute<16][test_data.minute>9]\n",
    "\n",
    "x_test_0_15 = x_test_0_15.drop(\"bResult\",axis=1)\n",
    "x_test_0_15 = x_test_0_15.drop(\"rResult\",axis=1)\n",
    "\n",
    "x_test_0_15 = x_test_0_15.select_dtypes(include=numerics)"
   ]
  },
  {
   "cell_type": "code",
   "execution_count": 131,
   "metadata": {},
   "outputs": [
    {
     "data": {
      "text/plain": [
       "0.7040682414698163"
      ]
     },
     "execution_count": 131,
     "metadata": {},
     "output_type": "execute_result"
    }
   ],
   "source": [
    "clf = LogisticRegression(random_state=0).fit(xtrain15, ytrain15)\n",
    "#clf.predict(x_test))\n",
    "\n",
    "#clf.predict_proba(x_test)\n",
    "\n",
    "clf.score(x_test_0_15, y_test_0_15)"
   ]
  },
  {
   "cell_type": "code",
   "execution_count": 21,
   "metadata": {},
   "outputs": [
    {
     "name": "stderr",
     "output_type": "stream",
     "text": [
      "C:\\Users\\stijn\\AppData\\Local\\Continuum\\anaconda3\\lib\\site-packages\\ipykernel_launcher.py:1: UserWarning: Boolean Series key will be reindexed to match DataFrame index.\n",
      "  \"\"\"Entry point for launching an IPython kernel.\n",
      "C:\\Users\\stijn\\AppData\\Local\\Continuum\\anaconda3\\lib\\site-packages\\ipykernel_launcher.py:2: UserWarning: Boolean Series key will be reindexed to match DataFrame index.\n",
      "  \n"
     ]
    }
   ],
   "source": [
    "ytrain20 = train_data[train_data.minute<21][train_data.minute>15].bResult\n",
    "xtrain20 = train_data[train_data.minute<21][train_data.minute>15]\n",
    "\n",
    "xtrain20 = xtrain20.drop(\"bResult\",axis=1)\n",
    "xtrain20 = xtrain20.drop(\"rResult\",axis=1)\n",
    "\n",
    "xtrain20 = xtrain20.select_dtypes(include=numerics)"
   ]
  },
  {
   "cell_type": "code",
   "execution_count": 22,
   "metadata": {},
   "outputs": [
    {
     "name": "stderr",
     "output_type": "stream",
     "text": [
      "C:\\Users\\stijn\\AppData\\Local\\Continuum\\anaconda3\\lib\\site-packages\\ipykernel_launcher.py:1: UserWarning: Boolean Series key will be reindexed to match DataFrame index.\n",
      "  \"\"\"Entry point for launching an IPython kernel.\n",
      "C:\\Users\\stijn\\AppData\\Local\\Continuum\\anaconda3\\lib\\site-packages\\ipykernel_launcher.py:2: UserWarning: Boolean Series key will be reindexed to match DataFrame index.\n",
      "  \n"
     ]
    }
   ],
   "source": [
    "y_test_0_20 = test_data[test_data.minute<21][test_data.minute>15].bResult\n",
    "x_test_0_20 = test_data[test_data.minute<21][test_data.minute>15]\n",
    "\n",
    "x_test_0_20 = x_test_0_20.drop(\"bResult\",axis=1)\n",
    "x_test_0_20 = x_test_0_20.drop(\"rResult\",axis=1)\n",
    "\n",
    "x_test_0_20 = x_test_0_20.select_dtypes(include=numerics)"
   ]
  },
  {
   "cell_type": "code",
   "execution_count": 23,
   "metadata": {},
   "outputs": [
    {
     "data": {
      "text/plain": [
       "0.7518158746827689"
      ]
     },
     "execution_count": 23,
     "metadata": {},
     "output_type": "execute_result"
    }
   ],
   "source": [
    "clf = LogisticRegression(random_state=0).fit(xtrain20, ytrain20)\n",
    "#clf.predict(x_test))\n",
    "\n",
    "#clf.predict_proba(x_test)\n",
    "\n",
    "clf.score(x_test_0_20, y_test_0_20)"
   ]
  },
  {
   "cell_type": "code",
   "execution_count": 156,
   "metadata": {},
   "outputs": [
    {
     "data": {
      "text/plain": [
       "53"
      ]
     },
     "execution_count": 156,
     "metadata": {},
     "output_type": "execute_result"
    }
   ],
   "source": [
    "len(x_test_0_20.columns)"
   ]
  },
  {
   "cell_type": "code",
   "execution_count": 24,
   "metadata": {},
   "outputs": [
    {
     "name": "stderr",
     "output_type": "stream",
     "text": [
      "C:\\Users\\stijn\\AppData\\Local\\Continuum\\anaconda3\\lib\\site-packages\\ipykernel_launcher.py:1: UserWarning: Boolean Series key will be reindexed to match DataFrame index.\n",
      "  \"\"\"Entry point for launching an IPython kernel.\n",
      "C:\\Users\\stijn\\AppData\\Local\\Continuum\\anaconda3\\lib\\site-packages\\ipykernel_launcher.py:2: UserWarning: Boolean Series key will be reindexed to match DataFrame index.\n",
      "  \n"
     ]
    }
   ],
   "source": [
    "ytrain25 = train_data[train_data.minute<26][train_data.minute>20].bResult\n",
    "xtrain25 = train_data[train_data.minute<26][train_data.minute>20]\n",
    "\n",
    "xtrain25 = xtrain25.drop(\"bResult\",axis=1)\n",
    "xtrain25 = xtrain25.drop(\"rResult\",axis=1)\n",
    "\n",
    "xtrain25 = xtrain25.select_dtypes(include=numerics)"
   ]
  },
  {
   "cell_type": "code",
   "execution_count": 25,
   "metadata": {},
   "outputs": [
    {
     "name": "stderr",
     "output_type": "stream",
     "text": [
      "C:\\Users\\stijn\\AppData\\Local\\Continuum\\anaconda3\\lib\\site-packages\\ipykernel_launcher.py:1: UserWarning: Boolean Series key will be reindexed to match DataFrame index.\n",
      "  \"\"\"Entry point for launching an IPython kernel.\n",
      "C:\\Users\\stijn\\AppData\\Local\\Continuum\\anaconda3\\lib\\site-packages\\ipykernel_launcher.py:2: UserWarning: Boolean Series key will be reindexed to match DataFrame index.\n",
      "  \n"
     ]
    }
   ],
   "source": [
    "y_test_0_25 = test_data[test_data.minute<26][test_data.minute>20].bResult\n",
    "x_test_0_25 = test_data[test_data.minute<26][test_data.minute>20]\n",
    "\n",
    "x_test_0_25 = x_test_0_25.drop(\"bResult\",axis=1)\n",
    "x_test_0_25 = x_test_0_25.drop(\"rResult\",axis=1)\n",
    "\n",
    "x_test_0_25 = x_test_0_25.select_dtypes(include=numerics)"
   ]
  },
  {
   "cell_type": "code",
   "execution_count": 27,
   "metadata": {},
   "outputs": [
    {
     "data": {
      "text/plain": [
       "0.8016412247419041"
      ]
     },
     "execution_count": 27,
     "metadata": {},
     "output_type": "execute_result"
    }
   ],
   "source": [
    "clf = LogisticRegression(random_state=0).fit(xtrain25, ytrain25)\n",
    "#clf.predict(x_test))\n",
    "\n",
    "#clf.predict_proba(x_test)\n",
    "\n",
    "clf.score(x_test_0_25, y_test_0_25)"
   ]
  },
  {
   "cell_type": "code",
   "execution_count": 117,
   "metadata": {},
   "outputs": [
    {
     "data": {
      "text/plain": [
       "10"
      ]
     },
     "execution_count": 117,
     "metadata": {},
     "output_type": "execute_result"
    }
   ],
   "source": [
    "\n",
    "c = [0.5,0.1,0.05,0.01,0.005,0.001,0.0005,0.0001,0.00005,0.00001]\n",
    "cplot = [str(i) for i in c]\n",
    "len(c)"
   ]
  },
  {
   "cell_type": "code",
   "execution_count": 106,
   "metadata": {},
   "outputs": [
    {
     "name": "stdout",
     "output_type": "stream",
     "text": [
      "done 1\n",
      "done 2\n",
      "done 3\n",
      "done 4\n",
      "done 5\n",
      "done 6\n",
      "done 7\n",
      "done 8\n",
      "done 9\n",
      "done 10\n"
     ]
    }
   ],
   "source": [
    "from sklearn.feature_selection import SelectFromModel\n",
    "accuracy25 = []\n",
    "features25 = []\n",
    "for i in range(len(c)):\n",
    "    sel_ = SelectFromModel(LogisticRegression(C=c[i], penalty='l1'))\n",
    "    print('done',i+1)\n",
    "    clf = sel_.fit(xtrain25, ytrain25)\n",
    "    clf = LogisticRegression(random_state=2).fit(xtrain25.drop(labels=xtrain25.columns[~sel_.get_support()],axis=1), ytrain25)\n",
    "    clf.score(x_test_0_25.drop(labels=xtrain25.columns[~sel_.get_support()],axis=1), y_test_0_25)\n",
    "    features25.append(len(xtrain25.columns[sel_.get_support()]))\n",
    "    accuracy25.append(clf.score(x_test_0_25.drop(labels=xtrain25.columns[~sel_.get_support()],axis=1), y_test_0_25))"
   ]
  },
  {
   "cell_type": "code",
   "execution_count": 108,
   "metadata": {},
   "outputs": [
    {
     "data": {
      "image/png": "[encoded data removed]",
      "text/plain": [
       "<Figure size 432x288 with 1 Axes>"
      ]
     },
     "metadata": {},
     "output_type": "display_data"
    }
   ],
   "source": [
    "import matplotlib.pyplot as plt\n",
    "\n",
    "plt.figure()\n",
    "#plt.plot(accuracy25)\n",
    "plt.plot(features25)\n",
    "plt.show()"
   ]
  },
  {
   "cell_type": "code",
   "execution_count": 158,
   "metadata": {},
   "outputs": [
    {
     "name": "stdout",
     "output_type": "stream",
     "text": [
      "done 1\n",
      "done 2\n",
      "done 3\n",
      "done 4\n",
      "done 5\n",
      "done 6\n",
      "done 7\n",
      "done 8\n",
      "done 9\n",
      "done 10\n"
     ]
    }
   ],
   "source": [
    "from sklearn.feature_selection import SelectFromModel\n",
    "accuracy15 = []\n",
    "features15 = []\n",
    "featuresnames15 = []\n",
    "for i in range(len(c)):\n",
    "    sel_ = SelectFromModel(LogisticRegression(C=c[i], penalty='l1'))\n",
    "    print('done',i+1)\n",
    "    clf = sel_.fit(xtrain15, ytrain15)\n",
    "    clf = LogisticRegression(random_state=2).fit(xtrain15.drop(labels=xtrain15.columns[~sel_.get_support()],axis=1), ytrain15)\n",
    "    clf.score(x_test_0_15.drop(labels=xtrain15.columns[~sel_.get_support()],axis=1), y_test_0_15)\n",
    "    features15.append(len(xtrain15.columns[sel_.get_support()]))\n",
    "    featuresnames15.append((xtrain15.columns[sel_.get_support()]))\n",
    "    accuracy15.append(clf.score(x_test_0_15.drop(labels=xtrain15.columns[~sel_.get_support()],axis=1), y_test_0_15))"
   ]
  },
  {
   "cell_type": "code",
   "execution_count": 151,
   "metadata": {},
   "outputs": [
    {
     "data": {
      "image/png": "[encoded data removed]",
      "text/plain": [
       "<Figure size 432x288 with 2 Axes>"
      ]
     },
     "metadata": {},
     "output_type": "display_data"
    }
   ],
   "source": [
    "\n",
    "fig, ax1 = plt.subplots()\n",
    "\n",
    "color = 'tab:red'\n",
    "ax1.set_xlabel('C')\n",
    "ax1.set_ylabel('accuracy (in %)', color=color)\n",
    "ax1.plot(cplot[1:],accuracy15[1:], color=color)\n",
    "ax1.tick_params(axis='y', labelcolor=color)\n",
    "\n",
    "ax2 = ax1.twinx()  # instantiate a second axes that shares the same x-axis\n",
    "\n",
    "color = 'tab:blue'\n",
    "ax2.set_ylabel('features', color=color)  # we already handled the x-label with ax1\n",
    "ax2.plot(cplot[1:],features15[1:], color=color)\n",
    "ax2.tick_params(axis='y', labelcolor=color)\n",
    "\n",
    "fig.tight_layout()# otherwise the right y-label is slightly clipped\n",
    "plt.title(\"Feature selection interval 11-15\")\n",
    "plt.show()"
   ]
  },
  {
   "cell_type": "code",
   "execution_count": 154,
   "metadata": {},
   "outputs": [
    {
     "data": {
      "text/plain": [
       "([0.7018081073199184,\n",
       "  0.7040682414698163,\n",
       "  0.702464275298921,\n",
       "  0.702610090405366,\n",
       "  0.7025371828521435,\n",
       "  0.7045785943423739,\n",
       "  0.7069845435987169,\n",
       "  0.7061825605132692,\n",
       "  0.7061825605132692,\n",
       "  0.7015893846602508],\n",
       " ['0.5',\n",
       "  '0.1',\n",
       "  '0.05',\n",
       "  '0.01',\n",
       "  '0.005',\n",
       "  '0.001',\n",
       "  '0.0005',\n",
       "  '0.0001',\n",
       "  '5e-05',\n",
       "  '1e-05'],\n",
       " [40, 41, 39, 26, 22, 20, 17, 11, 11, 3])"
      ]
     },
     "execution_count": 154,
     "metadata": {},
     "output_type": "execute_result"
    }
   ],
   "source": [
    "accuracy15,cplot,features15"
   ]
  },
  {
   "cell_type": "code",
   "execution_count": 91,
   "metadata": {},
   "outputs": [
    {
     "name": "stdout",
     "output_type": "stream",
     "text": [
      "done\n",
      "DONE\n",
      "Index(['game_id', 'minute', 'bKills', 'bTowers', 'bInhibs', 'bDragons',\n",
      "       'bBarons', 'bHeralds', 'goldred', 'rKills', 'rTowers', 'rInhibs',\n",
      "       'rDragons', 'rBarons', 'rHeralds', 'goldblueSupport', 'goldredTop',\n",
      "       'LeagueLB', 'SeasonLB', 'TypeLB', 'blueADCChampLB', 'blueBansLB',\n",
      "       'killsredTop', 'killsredJungle', 'killsredMiddle', 'killsredADC',\n",
      "       'killsredSupport', 'killsblueTop', 'killsblueJungle', 'killsblueMiddle',\n",
      "       'killsblueADC', 'killsblueSupport'],\n",
      "      dtype='object')\n"
     ]
    },
    {
     "data": {
      "text/plain": [
       "0.5611548556430446"
      ]
     },
     "execution_count": 91,
     "metadata": {},
     "output_type": "execute_result"
    }
   ],
   "source": [
    "from sklearn.feature_selection import SelectFromModel\n",
    "sel_ = SelectFromModel(LogisticRegression(C=0.0001, penalty='l1'))\n",
    "print('done')\n",
    "clf = sel_.fit(xtrain5, ytrain5)\n",
    "print('DONE')\n",
    "print(xtrain5.columns[~sel_.get_support()])\n",
    "clf = LogisticRegression(random_state=2).fit(xtrain5.drop(labels=xtrain5.columns[~sel_.get_support()],axis=1), ytrain5)\n",
    "clf.score(x_test_0_5.drop(labels=xtrain25.columns[~sel_.get_support()],axis=1), y_test_0_5)"
   ]
  },
  {
   "cell_type": "code",
   "execution_count": 124,
   "metadata": {},
   "outputs": [
    {
     "data": {
      "text/plain": [
       "0.5625546806649169"
      ]
     },
     "execution_count": 124,
     "metadata": {},
     "output_type": "execute_result"
    }
   ],
   "source": [
    "from sklearn.ensemble import RandomForestClassifier\n",
    "clf = RandomForestClassifier(max_depth=5, random_state=0)\n",
    "clf.fit(xtrain5, ytrain5)\n",
    "clf.score(x_test_0_5,y_test_0_5)"
   ]
  },
  {
   "cell_type": "code",
   "execution_count": 125,
   "metadata": {},
   "outputs": [
    {
     "data": {
      "text/plain": [
       "RandomForestClassifier(bootstrap=True, class_weight=None, criterion='gini',\n",
       "            max_depth=5, max_features='auto', max_leaf_nodes=None,\n",
       "            min_impurity_decrease=0.0, min_impurity_split=None,\n",
       "            min_samples_leaf=1, min_samples_split=2,\n",
       "            min_weight_fraction_leaf=0.0, n_estimators=10, n_jobs=1,\n",
       "            oob_score=False, random_state=0, verbose=0, warm_start=False)"
      ]
     },
     "execution_count": 125,
     "metadata": {},
     "output_type": "execute_result"
    }
   ],
   "source": [
    "clf"
   ]
  },
  {
   "cell_type": "code",
   "execution_count": 130,
   "metadata": {},
   "outputs": [
    {
     "data": {
      "text/plain": [
       "3474"
      ]
     },
     "execution_count": 130,
     "metadata": {},
     "output_type": "execute_result"
    }
   ],
   "source": [
    "len(df.game_id[df.bResult==0].unique())"
   ]
  },
  {
   "cell_type": "code",
   "execution_count": 141,
   "metadata": {},
   "outputs": [
    {
     "data": {
      "text/plain": [
       "0.5613298337707786"
      ]
     },
     "execution_count": 141,
     "metadata": {},
     "output_type": "execute_result"
    }
   ],
   "source": [
    "clf = LogisticRegression(random_state=0).fit(xtrain5, ytrain5)\n",
    "\n",
    "clf.score(x_test_0_5, y_test_0_5)"
   ]
  },
  {
   "cell_type": "code",
   "execution_count": 142,
   "metadata": {},
   "outputs": [
    {
     "data": {
      "text/plain": [
       "0.6463692038495188"
      ]
     },
     "execution_count": 142,
     "metadata": {},
     "output_type": "execute_result"
    }
   ],
   "source": [
    "clf = LogisticRegression(random_state=0).fit(xtrain10, ytrain10)\n",
    "\n",
    "clf.score(x_test_0_10, y_test_0_10)"
   ]
  },
  {
   "cell_type": "code",
   "execution_count": 140,
   "metadata": {},
   "outputs": [
    {
     "data": {
      "text/plain": [
       "0.7040682414698163"
      ]
     },
     "execution_count": 140,
     "metadata": {},
     "output_type": "execute_result"
    }
   ],
   "source": [
    "clf = LogisticRegression(random_state=0).fit(xtrain15, ytrain15)\n",
    "\n",
    "clf.score(x_test_0_15, y_test_0_15)"
   ]
  },
  {
   "cell_type": "code",
   "execution_count": 143,
   "metadata": {},
   "outputs": [
    {
     "data": {
      "text/plain": [
       "0.7518158746827689"
      ]
     },
     "execution_count": 143,
     "metadata": {},
     "output_type": "execute_result"
    }
   ],
   "source": [
    "clf = LogisticRegression(random_state=0).fit(xtrain20, ytrain20)\n",
    "\n",
    "clf.score(x_test_0_20, y_test_0_20)"
   ]
  },
  {
   "cell_type": "code",
   "execution_count": 144,
   "metadata": {},
   "outputs": [
    {
     "data": {
      "text/plain": [
       "0.8016412247419041"
      ]
     },
     "execution_count": 144,
     "metadata": {},
     "output_type": "execute_result"
    }
   ],
   "source": [
    "clf = LogisticRegression(random_state=0).fit(xtrain25, ytrain25)\n",
    "\n",
    "clf.score(x_test_0_25, y_test_0_25)"
   ]
  },
  {
   "cell_type": "code",
   "execution_count": 139,
   "metadata": {},
   "outputs": [
    {
     "name": "stdout",
     "output_type": "stream",
     "text": [
      "0.5424321959755031\n",
      "0.6326334208223972\n",
      "0.6987459900845727\n",
      "0.7520784107814824\n",
      "0.7993470396188124\n"
     ]
    }
   ],
   "source": [
    "\n",
    "print(clf.score(x_test_0_5, y_test_0_5))\n",
    "print(clf.score(x_test_0_10, y_test_0_10))\n",
    "print(clf.score(x_test_0_15, y_test_0_15))\n",
    "print(clf.score(x_test_0_20, y_test_0_20))\n",
    "print(clf.score(x_test_0_25, y_test_0_25))"
   ]
  },
  {
   "cell_type": "code",
   "execution_count": 145,
   "metadata": {
    "scrolled": true
   },
   "outputs": [
    {
     "data": {
      "text/plain": [
       "LogisticRegression(C=1.0, class_weight=None, dual=False, fit_intercept=True,\n",
       "          intercept_scaling=1, max_iter=100, multi_class='ovr', n_jobs=1,\n",
       "          penalty='l2', random_state=0, solver='liblinear', tol=0.0001,\n",
       "          verbose=0, warm_start=False)"
      ]
     },
     "execution_count": 145,
     "metadata": {},
     "output_type": "execute_result"
    }
   ],
   "source": [
    "clf"
   ]
  },
  {
   "cell_type": "code",
   "execution_count": 170,
   "metadata": {},
   "outputs": [
    {
     "name": "stdout",
     "output_type": "stream",
     "text": [
      "done 1\n",
      "done 2\n",
      "done 3\n",
      "done 4\n",
      "done 5\n",
      "done 6\n",
      "done 7\n",
      "done 8\n",
      "done 9\n",
      "done 10\n"
     ]
    }
   ],
   "source": [
    "from sklearn.feature_selection import SelectFromModel\n",
    "accuracy5 = []\n",
    "features5 = []\n",
    "featuresnames5 = []\n",
    "for i in range(len(c)):\n",
    "    sel_ = SelectFromModel(LogisticRegression(C=c[i], penalty='l1'))\n",
    "    print('done',i+1)\n",
    "    clf = sel_.fit(xtrain5, ytrain5)\n",
    "    clf = LogisticRegression(random_state=0).fit(xtrain5.drop(labels=xtrain25.columns[~sel_.get_support()],axis=1), ytrain5)\n",
    "    clf.score(x_test_0_5.drop(labels=xtrain5.columns[~sel_.get_support()],axis=1), y_test_0_5)\n",
    "    features5.append(len(xtrain5.columns[sel_.get_support()]))\n",
    "    featuresnames5.append((xtrain5.columns[sel_.get_support()]))\n",
    "    accuracy5.append(clf.score(x_test_0_5.drop(labels=xtrain5.columns[~sel_.get_support()],axis=1), y_test_0_5))"
   ]
  },
  {
   "cell_type": "code",
   "execution_count": 174,
   "metadata": {},
   "outputs": [
    {
     "data": {
      "image/png": "[encoded data removed]",
      "text/plain": [
       "<Figure size 432x288 with 2 Axes>"
      ]
     },
     "metadata": {},
     "output_type": "display_data"
    }
   ],
   "source": [
    "\n",
    "fig, ax1 = plt.subplots()\n",
    "\n",
    "color = 'tab:red'\n",
    "ax1.set_xlabel('C')\n",
    "ax1.set_ylabel('accuracy (in %)', color=color)\n",
    "ax1.plot(cplot,accuracy5, color=color)\n",
    "ax1.tick_params(axis='y', labelcolor=color)\n",
    "\n",
    "ax2 = ax1.twinx()  # instantiate a second axes that shares the same x-axis\n",
    "\n",
    "color = 'tab:blue'\n",
    "ax2.set_ylabel('features', color=color)  # we already handled the x-label with ax1\n",
    "ax2.plot(cplot,features5, color=color)\n",
    "ax2.tick_params(axis='y', labelcolor=color)\n",
    "plt.title(\"Feature selection interval 1-5\")\n",
    "fig.tight_layout()# otherwise the right y-label is slightly clipped\n",
    "plt.show()"
   ]
  },
  {
   "cell_type": "code",
   "execution_count": 177,
   "metadata": {},
   "outputs": [
    {
     "data": {
      "text/plain": [
       "Index(['Year', 'golddiff', 'goldredADC', 'redBansLB'], dtype='object')"
      ]
     },
     "execution_count": 177,
     "metadata": {},
     "output_type": "execute_result"
    }
   ],
   "source": [
    "featuresnames5[7]"
   ]
  },
  {
   "cell_type": "code",
   "execution_count": 178,
   "metadata": {},
   "outputs": [
    {
     "name": "stdout",
     "output_type": "stream",
     "text": [
      "done 1\n",
      "done 2\n",
      "done 3\n",
      "done 4\n",
      "done 5\n",
      "done 6\n",
      "done 7\n",
      "done 8\n",
      "done 9\n",
      "done 10\n"
     ]
    }
   ],
   "source": [
    "from sklearn.feature_selection import SelectFromModel\n",
    "accuracy10 = []\n",
    "features10 = []\n",
    "featuresnames10 = []\n",
    "for i in range(len(c)):\n",
    "    sel_ = SelectFromModel(LogisticRegression(C=c[i], penalty='l1'))\n",
    "    print('done',i+1)\n",
    "    clf = sel_.fit(xtrain10, ytrain10)\n",
    "    clf = LogisticRegression(random_state=0).fit(xtrain10.drop(labels=xtrain10.columns[~sel_.get_support()],axis=1), ytrain10)\n",
    "    clf.score(x_test_0_10.drop(labels=xtrain10.columns[~sel_.get_support()],axis=1), y_test_0_10)\n",
    "    features10.append(len(xtrain10.columns[sel_.get_support()]))\n",
    "    featuresnames10.append((xtrain10.columns[sel_.get_support()]))\n",
    "    accuracy10.append(clf.score(x_test_0_10.drop(labels=xtrain10.columns[~sel_.get_support()],axis=1), y_test_0_10))"
   ]
  },
  {
   "cell_type": "code",
   "execution_count": 179,
   "metadata": {},
   "outputs": [
    {
     "data": {
      "image/png": "[encoded data removed]",
      "text/plain": [
       "<Figure size 432x288 with 2 Axes>"
      ]
     },
     "metadata": {},
     "output_type": "display_data"
    }
   ],
   "source": [
    "\n",
    "fig, ax1 = plt.subplots()\n",
    "\n",
    "color = 'tab:red'\n",
    "ax1.set_xlabel('C')\n",
    "ax1.set_ylabel('accuracy (in %)', color=color)\n",
    "ax1.plot(cplot,accuracy10, color=color)\n",
    "ax1.tick_params(axis='y', labelcolor=color)\n",
    "\n",
    "ax2 = ax1.twinx()  # instantiate a second axes that shares the same x-axis\n",
    "\n",
    "color = 'tab:blue'\n",
    "ax2.set_ylabel('features', color=color)  # we already handled the x-label with ax1\n",
    "ax2.plot(cplot,features10, color=color)\n",
    "ax2.tick_params(axis='y', labelcolor=color)\n",
    "plt.title(\"Feature selection interval 6-10\")\n",
    "fig.tight_layout()# otherwise the right y-label is slightly clipped\n",
    "plt.show()"
   ]
  },
  {
   "cell_type": "code",
   "execution_count": 184,
   "metadata": {},
   "outputs": [
    {
     "data": {
      "text/plain": [
       "Index(['golddiff', 'goldblue', 'redBansLB'], dtype='object')"
      ]
     },
     "execution_count": 184,
     "metadata": {},
     "output_type": "execute_result"
    }
   ],
   "source": [
    "featuresnames10[9]"
   ]
  },
  {
   "cell_type": "code",
   "execution_count": 185,
   "metadata": {},
   "outputs": [
    {
     "name": "stdout",
     "output_type": "stream",
     "text": [
      "done 1\n",
      "done 2\n",
      "done 3\n",
      "done 4\n",
      "done 5\n",
      "done 6\n",
      "done 7\n",
      "done 8\n",
      "done 9\n",
      "done 10\n"
     ]
    }
   ],
   "source": [
    "from sklearn.feature_selection import SelectFromModel\n",
    "accuracy20 = []\n",
    "features20 = []\n",
    "featuresnames20 = []\n",
    "for i in range(len(c)):\n",
    "    sel_ = SelectFromModel(LogisticRegression(C=c[i], penalty='l1'))\n",
    "    print('done',i+1)\n",
    "    clf = sel_.fit(xtrain20, ytrain20)\n",
    "    clf = LogisticRegression(random_state=0).fit(xtrain20.drop(labels=xtrain20.columns[~sel_.get_support()],axis=1), ytrain20)\n",
    "    clf.score(x_test_0_20.drop(labels=xtrain20.columns[~sel_.get_support()],axis=1), y_test_0_20)\n",
    "    features20.append(len(xtrain20.columns[sel_.get_support()]))\n",
    "    featuresnames20.append((xtrain20.columns[sel_.get_support()]))\n",
    "    accuracy20.append(clf.score(x_test_0_20.drop(labels=xtrain20.columns[~sel_.get_support()],axis=1), y_test_0_20))"
   ]
  },
  {
   "cell_type": "code",
   "execution_count": 186,
   "metadata": {},
   "outputs": [
    {
     "data": {
      "image/png": "[encoded data removed]",
      "text/plain": [
       "<Figure size 432x288 with 2 Axes>"
      ]
     },
     "metadata": {},
     "output_type": "display_data"
    }
   ],
   "source": [
    "\n",
    "fig, ax1 = plt.subplots()\n",
    "\n",
    "color = 'tab:red'\n",
    "ax1.set_xlabel('C')\n",
    "ax1.set_ylabel('accuracy (in %)', color=color)\n",
    "ax1.plot(cplot,accuracy20, color=color)\n",
    "ax1.tick_params(axis='y', labelcolor=color)\n",
    "\n",
    "ax2 = ax1.twinx()  # instantiate a second axes that shares the same x-axis\n",
    "\n",
    "color = 'tab:blue'\n",
    "ax2.set_ylabel('features', color=color)  # we already handled the x-label with ax1\n",
    "ax2.plot(cplot,features20, color=color)\n",
    "ax2.tick_params(axis='y', labelcolor=color)\n",
    "plt.title(\"Feature selection interval 16-20\")\n",
    "fig.tight_layout()# otherwise the right y-label is slightly clipped\n",
    "plt.show()"
   ]
  },
  {
   "cell_type": "code",
   "execution_count": 188,
   "metadata": {},
   "outputs": [
    {
     "data": {
      "text/plain": [
       "Index(['Year', 'golddiff', 'goldblue', 'goldblueJungle', 'goldblueMiddle',\n",
       "       'goldblueADC', 'goldblueSupport', 'goldredJungle', 'goldredMiddle',\n",
       "       'goldredADC', 'goldredSupport', 'redBansLB'],\n",
       "      dtype='object')"
      ]
     },
     "execution_count": 188,
     "metadata": {},
     "output_type": "execute_result"
    }
   ],
   "source": [
    "featuresnames20[7]"
   ]
  },
  {
   "cell_type": "code",
   "execution_count": 163,
   "metadata": {},
   "outputs": [
    {
     "name": "stdout",
     "output_type": "stream",
     "text": [
      "done 1\n",
      "done 2\n",
      "done 3\n",
      "done 4\n",
      "done 5\n",
      "done 6\n",
      "done 7\n",
      "done 8\n",
      "done 9\n",
      "done 10\n"
     ]
    }
   ],
   "source": [
    "from sklearn.feature_selection import SelectFromModel\n",
    "accuracy25 = []\n",
    "features25 = []\n",
    "featuresnames25 = []\n",
    "for i in range(len(c)):\n",
    "    sel_ = SelectFromModel(LogisticRegression(C=c[i], penalty='l1'))\n",
    "    print('done',i+1)\n",
    "    clf = sel_.fit(xtrain25, ytrain25)\n",
    "    clf = LogisticRegression(random_state=0).fit(xtrain25.drop(labels=xtrain25.columns[~sel_.get_support()],axis=1), ytrain25)\n",
    "    clf.score(x_test_0_25.drop(labels=xtrain25.columns[~sel_.get_support()],axis=1), y_test_0_25)\n",
    "    features25.append(len(xtrain25.columns[sel_.get_support()]))\n",
    "    featuresnames25.append((xtrain25.columns[sel_.get_support()]))\n",
    "    accuracy25.append(clf.score(x_test_0_25.drop(labels=xtrain25.columns[~sel_.get_support()],axis=1), y_test_0_25))"
   ]
  },
  {
   "cell_type": "code",
   "execution_count": 165,
   "metadata": {},
   "outputs": [
    {
     "data": {
      "image/png": "[encoded data removed]",
      "text/plain": [
       "<Figure size 432x288 with 2 Axes>"
      ]
     },
     "metadata": {},
     "output_type": "display_data"
    }
   ],
   "source": [
    "\n",
    "fig, ax1 = plt.subplots()\n",
    "\n",
    "color = 'tab:red'\n",
    "ax1.set_xlabel('C')\n",
    "ax1.set_ylabel('accuracy (in %)', color=color)\n",
    "ax1.plot(cplot,accuracy25, color=color)\n",
    "ax1.tick_params(axis='y', labelcolor=color)\n",
    "\n",
    "ax2 = ax1.twinx()  # instantiate a second axes that shares the same x-axis\n",
    "\n",
    "color = 'tab:blue'\n",
    "ax2.set_ylabel('features', color=color)  # we already handled the x-label with ax1\n",
    "ax2.plot(cplot,features25, color=color)\n",
    "ax2.tick_params(axis='y', labelcolor=color)\n",
    "plt.title(\"Feature selection interval 21-25\")\n",
    "fig.tight_layout()# otherwise the right y-label is slightly clipped\n",
    "plt.show()"
   ]
  },
  {
   "cell_type": "code",
   "execution_count": 169,
   "metadata": {},
   "outputs": [
    {
     "data": {
      "text/plain": [
       "Index(['game_id', 'golddiff', 'goldblueJungle', 'goldblueMiddle',\n",
       "       'goldblueADC', 'goldredJungle', 'goldredMiddle', 'goldredADC',\n",
       "       'goldredSupport', 'redBansLB'],\n",
       "      dtype='object')"
      ]
     },
     "execution_count": 169,
     "metadata": {},
     "output_type": "execute_result"
    }
   ],
   "source": [
    "featuresnames25[8]"
   ]
  },
  {
   "cell_type": "code",
   "execution_count": 146,
   "metadata": {
    "scrolled": false
   },
   "outputs": [
    {
     "data": {
      "image/png": "[encoded data removed]",
      "text/plain": [
       "<Figure size 432x288 with 1 Axes>"
      ]
     },
     "metadata": {},
     "output_type": "display_data"
    }
   ],
   "source": [
    "#create sigmoid plot for in report\n",
    "import matplotlib.pyplot as plt \n",
    "import numpy as np \n",
    "import math \n",
    "  \n",
    "x = np.linspace(-6, 6, 100) \n",
    "z = 1/(1 + np.exp(-x)) \n",
    "  \n",
    "plt.plot(x, z) \n",
    "plt.title(\"Sigmoid function\")\n",
    "plt.xlabel(\"z\") \n",
    "plt.ylabel(\"y\") \n",
    "  \n",
    "plt.show() "
   ]
  }
 ],
 "metadata": {
  "kernelspec": {
   "display_name": "Python 3",
   "language": "python",
   "name": "python3"
  },
  "language_info": {
   "codemirror_mode": {
    "name": "ipython",
    "version": 3
   },
   "file_extension": ".py",
   "mimetype": "text/x-python",
   "name": "python",
   "nbconvert_exporter": "python",
   "pygments_lexer": "ipython3",
   "version": "3.6.5"
  }
 },
 "nbformat": 4,
 "nbformat_minor": 2
}
